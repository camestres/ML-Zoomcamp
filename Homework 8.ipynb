{
  "nbformat": 4,
  "nbformat_minor": 0,
  "metadata": {
    "colab": {
      "provenance": []
    },
    "kernelspec": {
      "name": "python3",
      "display_name": "Python 3"
    },
    "language_info": {
      "name": "python"
    }
  },
  "cells": [
    {
      "cell_type": "code",
      "execution_count": 2,
      "metadata": {
        "id": "BuH9p--hm7yV"
      },
      "outputs": [],
      "source": [
        "import numpy as np\n",
        "import matplotlib.pyplot as plt\n",
        "%matplotlib inline\n",
        "\n",
        "import tensorflow as tf\n",
        "from tensorflow import keras"
      ]
    },
    {
      "cell_type": "code",
      "source": [
        "from tensorflow.keras.preprocessing.image import load_img"
      ],
      "metadata": {
        "id": "jgBACdt0nReu"
      },
      "execution_count": 3,
      "outputs": []
    },
    {
      "cell_type": "code",
      "source": [
        "from tensorflow.keras.applications.xception import preprocess_input\n",
        "from tensorflow.keras.applications.xception import decode_predictions"
      ],
      "metadata": {
        "id": "vYM366hGrSQm"
      },
      "execution_count": 10,
      "outputs": []
    },
    {
      "cell_type": "code",
      "source": [
        "from tensorflow.keras.preprocessing.image import ImageDataGenerator"
      ],
      "metadata": {
        "id": "-c6xAoqerrXH"
      },
      "execution_count": 11,
      "outputs": []
    },
    {
      "cell_type": "code",
      "source": [
        "train_gen = ImageDataGenerator(rescale=1./255)\n",
        "\n",
        "train_ds = train_gen.flow_from_directory(\n",
        "    '/content/train',\n",
        "    class_mode='binary',\n",
        "    target_size=(150, 150),\n",
        "    batch_size=20,\n",
        "    shuffle=True\n",
        ")"
      ],
      "metadata": {
        "colab": {
          "base_uri": "https://localhost:8080/"
        },
        "id": "G3LmdcROunCw",
        "outputId": "78e5f59f-76bd-45e0-fa2d-2f04e657589d"
      },
      "execution_count": 29,
      "outputs": [
        {
          "output_type": "stream",
          "name": "stdout",
          "text": [
            "Found 1594 images belonging to 2 classes.\n"
          ]
        }
      ]
    },
    {
      "cell_type": "code",
      "source": [
        "train_ds.class_indices"
      ],
      "metadata": {
        "colab": {
          "base_uri": "https://localhost:8080/"
        },
        "id": "oMj7UEtQvQWe",
        "outputId": "b55599bf-8c07-4807-d5f0-da2491e66e21"
      },
      "execution_count": 30,
      "outputs": [
        {
          "output_type": "execute_result",
          "data": {
            "text/plain": [
              "{'dino': 0, 'dragon': 1}"
            ]
          },
          "metadata": {},
          "execution_count": 30
        }
      ]
    },
    {
      "cell_type": "code",
      "source": [
        "X, y = next(train_ds)"
      ],
      "metadata": {
        "id": "o1FTnFtbvRn-"
      },
      "execution_count": 31,
      "outputs": []
    },
    {
      "cell_type": "code",
      "source": [
        "val_gen = ImageDataGenerator(rescale=1./255)\n",
        "\n",
        "val_ds = val_gen.flow_from_directory(\n",
        "    '/content/test',\n",
        "    class_mode='binary',\n",
        "    target_size=(150, 150),\n",
        "    batch_size=20,\n",
        "    shuffle=True\n",
        ")"
      ],
      "metadata": {
        "colab": {
          "base_uri": "https://localhost:8080/"
        },
        "id": "dfoFaHnHwAA2",
        "outputId": "aab6e1da-38a8-4e93-92e2-18fa20c13ec5"
      },
      "execution_count": 32,
      "outputs": [
        {
          "output_type": "stream",
          "name": "stdout",
          "text": [
            "Found 394 images belonging to 2 classes.\n"
          ]
        }
      ]
    },
    {
      "cell_type": "code",
      "source": [
        "inputs = keras.Input(shape=(150, 150, 3))\n",
        "\n",
        "conv = keras.layers.Conv2D(filters=32, kernel_size=(3,3), activation='relu')(inputs)\n",
        "\n",
        "vectors = keras.layers.MaxPooling2D(pool_size=(2, 2))(conv)\n",
        "\n",
        "flatten = keras.layers.Flatten()(vectors)\n",
        "\n",
        "dense = keras.layers.Dense(64, activation='relu')(flatten)\n",
        "\n",
        "outputs = keras.layers.Dense(1, activation='sigmoid')(dense)\n",
        "\n",
        "model = keras.Model(inputs, outputs)"
      ],
      "metadata": {
        "id": "I8bpk9jwwlDH"
      },
      "execution_count": 26,
      "outputs": []
    },
    {
      "cell_type": "code",
      "source": [
        "model.summary()"
      ],
      "metadata": {
        "colab": {
          "base_uri": "https://localhost:8080/"
        },
        "id": "Byo5_lgthUnd",
        "outputId": "554a7a69-8b5c-4a76-ec39-db7f9c08ceed"
      },
      "execution_count": 27,
      "outputs": [
        {
          "output_type": "stream",
          "name": "stdout",
          "text": [
            "Model: \"model_1\"\n",
            "_________________________________________________________________\n",
            " Layer (type)                Output Shape              Param #   \n",
            "=================================================================\n",
            " input_3 (InputLayer)        [(None, 150, 150, 3)]     0         \n",
            "                                                                 \n",
            " conv2d_2 (Conv2D)           (None, 148, 148, 32)      896       \n",
            "                                                                 \n",
            " max_pooling2d_1 (MaxPooling  (None, 74, 74, 32)       0         \n",
            " 2D)                                                             \n",
            "                                                                 \n",
            " flatten_1 (Flatten)         (None, 175232)            0         \n",
            "                                                                 \n",
            " dense_2 (Dense)             (None, 64)                11214912  \n",
            "                                                                 \n",
            " dense_3 (Dense)             (None, 1)                 65        \n",
            "                                                                 \n",
            "=================================================================\n",
            "Total params: 11,215,873\n",
            "Trainable params: 11,215,873\n",
            "Non-trainable params: 0\n",
            "_________________________________________________________________\n"
          ]
        }
      ]
    },
    {
      "cell_type": "code",
      "source": [
        "optimizer = keras.optimizers.SGD(learning_rate=0.002, momentum=0.8)\n",
        "loss = keras.losses.BinaryCrossentropy()\n",
        "\n",
        "model.compile(\n",
        "    optimizer=optimizer,\n",
        "    loss=loss,\n",
        "    metrics=['accuracy']\n",
        ")"
      ],
      "metadata": {
        "id": "Y7Jv7ohfgbuD"
      },
      "execution_count": 28,
      "outputs": []
    },
    {
      "cell_type": "code",
      "source": [
        "history = model.fit(train_ds, epochs=10, validation_data=val_ds)"
      ],
      "metadata": {
        "colab": {
          "base_uri": "https://localhost:8080/"
        },
        "id": "-BaIi2kdjh9V",
        "outputId": "f07e987a-85ae-4f36-f698-6cc20a8aaef0"
      },
      "execution_count": 33,
      "outputs": [
        {
          "output_type": "stream",
          "name": "stdout",
          "text": [
            "Epoch 1/10\n",
            "80/80 [==============================] - 34s 414ms/step - loss: 0.6756 - accuracy: 0.5903 - val_loss: 0.6018 - val_accuracy: 0.7132\n",
            "Epoch 2/10\n",
            "80/80 [==============================] - 35s 431ms/step - loss: 0.5424 - accuracy: 0.7566 - val_loss: 0.4791 - val_accuracy: 0.8122\n",
            "Epoch 3/10\n",
            "80/80 [==============================] - 34s 429ms/step - loss: 0.4426 - accuracy: 0.8124 - val_loss: 0.4212 - val_accuracy: 0.8173\n",
            "Epoch 4/10\n",
            "80/80 [==============================] - 33s 411ms/step - loss: 0.3848 - accuracy: 0.8450 - val_loss: 0.3730 - val_accuracy: 0.8553\n",
            "Epoch 5/10\n",
            "80/80 [==============================] - 34s 429ms/step - loss: 0.3388 - accuracy: 0.8695 - val_loss: 0.3651 - val_accuracy: 0.8452\n",
            "Epoch 6/10\n",
            "80/80 [==============================] - 35s 441ms/step - loss: 0.3024 - accuracy: 0.8871 - val_loss: 0.3903 - val_accuracy: 0.8122\n",
            "Epoch 7/10\n",
            "80/80 [==============================] - 33s 414ms/step - loss: 0.2813 - accuracy: 0.8833 - val_loss: 0.3491 - val_accuracy: 0.8350\n",
            "Epoch 8/10\n",
            "80/80 [==============================] - 34s 426ms/step - loss: 0.2544 - accuracy: 0.9028 - val_loss: 0.3622 - val_accuracy: 0.8299\n",
            "Epoch 9/10\n",
            "80/80 [==============================] - 34s 425ms/step - loss: 0.2331 - accuracy: 0.9228 - val_loss: 0.2904 - val_accuracy: 0.8782\n",
            "Epoch 10/10\n",
            "80/80 [==============================] - 33s 415ms/step - loss: 0.2257 - accuracy: 0.9115 - val_loss: 0.3195 - val_accuracy: 0.8528\n"
          ]
        }
      ]
    },
    {
      "cell_type": "code",
      "source": [
        "hist = history.history\n",
        "plt.plot(hist['val_accuracy'], label='val')\n",
        "plt.plot(hist['accuracy'], label='train')\n",
        "\n",
        "plt.legend()"
      ],
      "metadata": {
        "colab": {
          "base_uri": "https://localhost:8080/",
          "height": 282
        },
        "id": "oS3eelr8xh4X",
        "outputId": "14ee5f45-b0e0-4cf0-be33-2420ebf37668"
      },
      "execution_count": 48,
      "outputs": [
        {
          "output_type": "execute_result",
          "data": {
            "text/plain": [
              "<matplotlib.legend.Legend at 0x7f54c71ba4d0>"
            ]
          },
          "metadata": {},
          "execution_count": 48
        },
        {
          "output_type": "display_data",
          "data": {
            "text/plain": [
              "<Figure size 432x288 with 1 Axes>"
            ],
            "image/png": "[encoded data removed]"
          },
          "metadata": {
            "needs_background": "light"
          }
        }
      ]
    },
    {
      "cell_type": "code",
      "source": [
        "np.std(history.history['loss'])"
      ],
      "metadata": {
        "colab": {
          "base_uri": "https://localhost:8080/"
        },
        "id": "yENC7YZpvqNo",
        "outputId": "7652dae9-9b7a-4605-9eb4-f0a7aa624181"
      },
      "execution_count": 52,
      "outputs": [
        {
          "output_type": "execute_result",
          "data": {
            "text/plain": [
              "0.1396135200535117"
            ]
          },
          "metadata": {},
          "execution_count": 52
        }
      ]
    },
    {
      "cell_type": "code",
      "source": [
        "# Data augmentations\n",
        "\n",
        "train_gen = ImageDataGenerator(\n",
        "    rescale=1./255,\n",
        "    rotation_range=40,\n",
        "    width_shift_range=0.2,\n",
        "    height_shift_range=0.2,\n",
        "    shear_range=0.2,\n",
        "    zoom_range=0.2,\n",
        "    horizontal_flip=True,\n",
        "    fill_mode='nearest'\n",
        "    )\n",
        "\n",
        "train_ds = train_gen.flow_from_directory(\n",
        "    '/content/train',\n",
        "    class_mode='binary',\n",
        "    target_size=(150, 150),\n",
        "    batch_size=20,\n",
        "    shuffle=True\n",
        ")"
      ],
      "metadata": {
        "colab": {
          "base_uri": "https://localhost:8080/"
        },
        "id": "athmRnwBvur-",
        "outputId": "5f81cd1c-b9cc-4b0c-c2ca-395539beb1f8"
      },
      "execution_count": 53,
      "outputs": [
        {
          "output_type": "stream",
          "name": "stdout",
          "text": [
            "Found 1594 images belonging to 2 classes.\n"
          ]
        }
      ]
    },
    {
      "cell_type": "code",
      "source": [
        "history = model.fit(train_ds, epochs=10, validation_data=val_ds)"
      ],
      "metadata": {
        "colab": {
          "base_uri": "https://localhost:8080/"
        },
        "id": "SxwjRwI-0ZwD",
        "outputId": "5f6654b2-8882-4f1d-bc44-8f880bc04288"
      },
      "execution_count": 54,
      "outputs": [
        {
          "output_type": "stream",
          "name": "stdout",
          "text": [
            "Epoch 1/10\n",
            "80/80 [==============================] - 42s 518ms/step - loss: 0.4653 - accuracy: 0.7905 - val_loss: 0.3382 - val_accuracy: 0.8579\n",
            "Epoch 2/10\n",
            "80/80 [==============================] - 40s 498ms/step - loss: 0.4433 - accuracy: 0.7942 - val_loss: 0.2920 - val_accuracy: 0.8858\n",
            "Epoch 3/10\n",
            "80/80 [==============================] - 40s 500ms/step - loss: 0.4203 - accuracy: 0.8055 - val_loss: 0.2991 - val_accuracy: 0.8731\n",
            "Epoch 4/10\n",
            "80/80 [==============================] - 41s 508ms/step - loss: 0.3947 - accuracy: 0.8281 - val_loss: 0.3327 - val_accuracy: 0.8604\n",
            "Epoch 5/10\n",
            "80/80 [==============================] - 40s 503ms/step - loss: 0.3865 - accuracy: 0.8287 - val_loss: 0.2860 - val_accuracy: 0.8883\n",
            "Epoch 6/10\n",
            "80/80 [==============================] - 42s 517ms/step - loss: 0.3851 - accuracy: 0.8287 - val_loss: 0.3234 - val_accuracy: 0.8604\n",
            "Epoch 7/10\n",
            "80/80 [==============================] - 40s 501ms/step - loss: 0.3791 - accuracy: 0.8300 - val_loss: 0.3519 - val_accuracy: 0.8528\n",
            "Epoch 8/10\n",
            "80/80 [==============================] - 42s 522ms/step - loss: 0.3488 - accuracy: 0.8582 - val_loss: 0.3805 - val_accuracy: 0.8452\n",
            "Epoch 9/10\n",
            "80/80 [==============================] - 39s 482ms/step - loss: 0.3570 - accuracy: 0.8407 - val_loss: 0.3296 - val_accuracy: 0.8579\n",
            "Epoch 10/10\n",
            "80/80 [==============================] - 41s 514ms/step - loss: 0.3433 - accuracy: 0.8601 - val_loss: 0.4711 - val_accuracy: 0.7970\n"
          ]
        }
      ]
    },
    {
      "cell_type": "code",
      "source": [
        "hist = history.history\n",
        "plt.plot(hist['val_accuracy'], label='val')\n",
        "plt.plot(hist['accuracy'], label='train')\n",
        "\n",
        "plt.legend()"
      ],
      "metadata": {
        "colab": {
          "base_uri": "https://localhost:8080/",
          "height": 282
        },
        "id": "bekRKK82wExC",
        "outputId": "305f1bd5-10c3-4244-8fcd-303ba69fd942"
      },
      "execution_count": 55,
      "outputs": [
        {
          "output_type": "execute_result",
          "data": {
            "text/plain": [
              "<matplotlib.legend.Legend at 0x7f54c8a26310>"
            ]
          },
          "metadata": {},
          "execution_count": 55
        },
        {
          "output_type": "display_data",
          "data": {
            "text/plain": [
              "<Figure size 432x288 with 1 Axes>"
            ],
            "image/png": "[encoded data removed]"
          },
          "metadata": {
            "needs_background": "light"
          }
        }
      ]
    },
    {
      "cell_type": "code",
      "source": [
        "np.mean(history.history['val_loss'])"
      ],
      "metadata": {
        "colab": {
          "base_uri": "https://localhost:8080/"
        },
        "id": "AIz3xCY_2826",
        "outputId": "c0d99edd-1e04-412e-9d7c-31177820f27a"
      },
      "execution_count": 56,
      "outputs": [
        {
          "output_type": "execute_result",
          "data": {
            "text/plain": [
              "0.3404589831829071"
            ]
          },
          "metadata": {},
          "execution_count": 56
        }
      ]
    },
    {
      "cell_type": "code",
      "source": [],
      "metadata": {
        "id": "8HAEIqi43Smv"
      },
      "execution_count": null,
      "outputs": []
    }
  ]
}