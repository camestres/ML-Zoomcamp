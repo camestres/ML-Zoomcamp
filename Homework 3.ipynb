{
 "cells": [
  {
   "cell_type": "code",
   "execution_count": 1,
   "id": "6949b21b",
   "metadata": {},
   "outputs": [],
   "source": [
    "import pandas as pd\n",
    "import numpy as np\n",
    "\n",
    "import seaborn as sns\n",
    "from matplotlib import pyplot as plt\n",
    "%matplotlib inline"
   ]
  },
  {
   "cell_type": "code",
   "execution_count": 2,
   "id": "2c09c042",
   "metadata": {},
   "outputs": [],
   "source": [
    "df = pd.read_csv('https://raw.githubusercontent.com/alexeygrigorev/datasets/master/housing.csv')"
   ]
  },
  {
   "cell_type": "code",
   "execution_count": 4,
   "id": "f82cbaa6",
   "metadata": {},
   "outputs": [
    {
     "data": {
      "text/plain": [
       "Index(['longitude', 'latitude', 'housing_median_age', 'total_rooms',\n",
       "       'total_bedrooms', 'population', 'households', 'median_income',\n",
       "       'median_house_value', 'ocean_proximity'],\n",
       "      dtype='object')"
      ]
     },
     "execution_count": 4,
     "metadata": {},
     "output_type": "execute_result"
    }
   ],
   "source": [
    "df.columns"
   ]
  },
  {
   "cell_type": "code",
   "execution_count": 5,
   "id": "15bde5d0",
   "metadata": {},
   "outputs": [
    {
     "data": {
      "text/plain": [
       "longitude               0\n",
       "latitude                0\n",
       "housing_median_age      0\n",
       "total_rooms             0\n",
       "total_bedrooms        207\n",
       "population              0\n",
       "households              0\n",
       "median_income           0\n",
       "median_house_value      0\n",
       "ocean_proximity         0\n",
       "dtype: int64"
      ]
     },
     "execution_count": 5,
     "metadata": {},
     "output_type": "execute_result"
    }
   ],
   "source": [
    "df.isnull().sum()"
   ]
  },
  {
   "cell_type": "code",
   "execution_count": 6,
   "id": "f595cce4",
   "metadata": {},
   "outputs": [],
   "source": [
    "df['total_bedrooms'] = df['total_bedrooms'].fillna(0)"
   ]
  },
  {
   "cell_type": "code",
   "execution_count": 7,
   "id": "057dfd4c",
   "metadata": {},
   "outputs": [
    {
     "data": {
      "text/plain": [
       "longitude             0\n",
       "latitude              0\n",
       "housing_median_age    0\n",
       "total_rooms           0\n",
       "total_bedrooms        0\n",
       "population            0\n",
       "households            0\n",
       "median_income         0\n",
       "median_house_value    0\n",
       "ocean_proximity       0\n",
       "dtype: int64"
      ]
     },
     "execution_count": 7,
     "metadata": {},
     "output_type": "execute_result"
    }
   ],
   "source": [
    "df.isnull().sum()"
   ]
  },
  {
   "cell_type": "code",
   "execution_count": 11,
   "id": "d90e594f",
   "metadata": {},
   "outputs": [],
   "source": [
    "df['rooms_per_household'] = df['total_rooms'] / df['households']\n",
    "df['bedrooms_per_room'] = df['total_bedrooms'] / df['total_rooms']\n",
    "df['population_per_household'] = df['population'] / df['households']"
   ]
  },
  {
   "cell_type": "code",
   "execution_count": 13,
   "id": "96a7dc7c",
   "metadata": {},
   "outputs": [
    {
     "data": {
      "text/html": [
       "<div>\n",
       "<style scoped>\n",
       "    .dataframe tbody tr th:only-of-type {\n",
       "        vertical-align: middle;\n",
       "    }\n",
       "\n",
       "    .dataframe tbody tr th {\n",
       "        vertical-align: top;\n",
       "    }\n",
       "\n",
       "    .dataframe thead th {\n",
       "        text-align: right;\n",
       "    }\n",
       "</style>\n",
       "<table border=\"1\" class=\"dataframe\">\n",
       "  <thead>\n",
       "    <tr style=\"text-align: right;\">\n",
       "      <th></th>\n",
       "      <th>0</th>\n",
       "      <th>1</th>\n",
       "      <th>2</th>\n",
       "      <th>3</th>\n",
       "      <th>4</th>\n",
       "      <th>5</th>\n",
       "      <th>6</th>\n",
       "      <th>7</th>\n",
       "      <th>8</th>\n",
       "      <th>9</th>\n",
       "      <th>...</th>\n",
       "      <th>20630</th>\n",
       "      <th>20631</th>\n",
       "      <th>20632</th>\n",
       "      <th>20633</th>\n",
       "      <th>20634</th>\n",
       "      <th>20635</th>\n",
       "      <th>20636</th>\n",
       "      <th>20637</th>\n",
       "      <th>20638</th>\n",
       "      <th>20639</th>\n",
       "    </tr>\n",
       "  </thead>\n",
       "  <tbody>\n",
       "    <tr>\n",
       "      <th>longitude</th>\n",
       "      <td>-122.23</td>\n",
       "      <td>-122.22</td>\n",
       "      <td>-122.24</td>\n",
       "      <td>-122.25</td>\n",
       "      <td>-122.25</td>\n",
       "      <td>-122.25</td>\n",
       "      <td>-122.25</td>\n",
       "      <td>-122.25</td>\n",
       "      <td>-122.26</td>\n",
       "      <td>-122.25</td>\n",
       "      <td>...</td>\n",
       "      <td>-121.32</td>\n",
       "      <td>-121.4</td>\n",
       "      <td>-121.45</td>\n",
       "      <td>-121.53</td>\n",
       "      <td>-121.56</td>\n",
       "      <td>-121.09</td>\n",
       "      <td>-121.21</td>\n",
       "      <td>-121.22</td>\n",
       "      <td>-121.32</td>\n",
       "      <td>-121.24</td>\n",
       "    </tr>\n",
       "    <tr>\n",
       "      <th>latitude</th>\n",
       "      <td>37.88</td>\n",
       "      <td>37.86</td>\n",
       "      <td>37.85</td>\n",
       "      <td>37.85</td>\n",
       "      <td>37.85</td>\n",
       "      <td>37.85</td>\n",
       "      <td>37.84</td>\n",
       "      <td>37.84</td>\n",
       "      <td>37.84</td>\n",
       "      <td>37.84</td>\n",
       "      <td>...</td>\n",
       "      <td>39.29</td>\n",
       "      <td>39.33</td>\n",
       "      <td>39.26</td>\n",
       "      <td>39.19</td>\n",
       "      <td>39.27</td>\n",
       "      <td>39.48</td>\n",
       "      <td>39.49</td>\n",
       "      <td>39.43</td>\n",
       "      <td>39.43</td>\n",
       "      <td>39.37</td>\n",
       "    </tr>\n",
       "    <tr>\n",
       "      <th>housing_median_age</th>\n",
       "      <td>41.0</td>\n",
       "      <td>21.0</td>\n",
       "      <td>52.0</td>\n",
       "      <td>52.0</td>\n",
       "      <td>52.0</td>\n",
       "      <td>52.0</td>\n",
       "      <td>52.0</td>\n",
       "      <td>52.0</td>\n",
       "      <td>42.0</td>\n",
       "      <td>52.0</td>\n",
       "      <td>...</td>\n",
       "      <td>11.0</td>\n",
       "      <td>15.0</td>\n",
       "      <td>15.0</td>\n",
       "      <td>27.0</td>\n",
       "      <td>28.0</td>\n",
       "      <td>25.0</td>\n",
       "      <td>18.0</td>\n",
       "      <td>17.0</td>\n",
       "      <td>18.0</td>\n",
       "      <td>16.0</td>\n",
       "    </tr>\n",
       "    <tr>\n",
       "      <th>total_rooms</th>\n",
       "      <td>880.0</td>\n",
       "      <td>7099.0</td>\n",
       "      <td>1467.0</td>\n",
       "      <td>1274.0</td>\n",
       "      <td>1627.0</td>\n",
       "      <td>919.0</td>\n",
       "      <td>2535.0</td>\n",
       "      <td>3104.0</td>\n",
       "      <td>2555.0</td>\n",
       "      <td>3549.0</td>\n",
       "      <td>...</td>\n",
       "      <td>2640.0</td>\n",
       "      <td>2655.0</td>\n",
       "      <td>2319.0</td>\n",
       "      <td>2080.0</td>\n",
       "      <td>2332.0</td>\n",
       "      <td>1665.0</td>\n",
       "      <td>697.0</td>\n",
       "      <td>2254.0</td>\n",
       "      <td>1860.0</td>\n",
       "      <td>2785.0</td>\n",
       "    </tr>\n",
       "    <tr>\n",
       "      <th>total_bedrooms</th>\n",
       "      <td>129.0</td>\n",
       "      <td>1106.0</td>\n",
       "      <td>190.0</td>\n",
       "      <td>235.0</td>\n",
       "      <td>280.0</td>\n",
       "      <td>213.0</td>\n",
       "      <td>489.0</td>\n",
       "      <td>687.0</td>\n",
       "      <td>665.0</td>\n",
       "      <td>707.0</td>\n",
       "      <td>...</td>\n",
       "      <td>505.0</td>\n",
       "      <td>493.0</td>\n",
       "      <td>416.0</td>\n",
       "      <td>412.0</td>\n",
       "      <td>395.0</td>\n",
       "      <td>374.0</td>\n",
       "      <td>150.0</td>\n",
       "      <td>485.0</td>\n",
       "      <td>409.0</td>\n",
       "      <td>616.0</td>\n",
       "    </tr>\n",
       "    <tr>\n",
       "      <th>population</th>\n",
       "      <td>322.0</td>\n",
       "      <td>2401.0</td>\n",
       "      <td>496.0</td>\n",
       "      <td>558.0</td>\n",
       "      <td>565.0</td>\n",
       "      <td>413.0</td>\n",
       "      <td>1094.0</td>\n",
       "      <td>1157.0</td>\n",
       "      <td>1206.0</td>\n",
       "      <td>1551.0</td>\n",
       "      <td>...</td>\n",
       "      <td>1257.0</td>\n",
       "      <td>1200.0</td>\n",
       "      <td>1047.0</td>\n",
       "      <td>1082.0</td>\n",
       "      <td>1041.0</td>\n",
       "      <td>845.0</td>\n",
       "      <td>356.0</td>\n",
       "      <td>1007.0</td>\n",
       "      <td>741.0</td>\n",
       "      <td>1387.0</td>\n",
       "    </tr>\n",
       "    <tr>\n",
       "      <th>households</th>\n",
       "      <td>126.0</td>\n",
       "      <td>1138.0</td>\n",
       "      <td>177.0</td>\n",
       "      <td>219.0</td>\n",
       "      <td>259.0</td>\n",
       "      <td>193.0</td>\n",
       "      <td>514.0</td>\n",
       "      <td>647.0</td>\n",
       "      <td>595.0</td>\n",
       "      <td>714.0</td>\n",
       "      <td>...</td>\n",
       "      <td>445.0</td>\n",
       "      <td>432.0</td>\n",
       "      <td>385.0</td>\n",
       "      <td>382.0</td>\n",
       "      <td>344.0</td>\n",
       "      <td>330.0</td>\n",
       "      <td>114.0</td>\n",
       "      <td>433.0</td>\n",
       "      <td>349.0</td>\n",
       "      <td>530.0</td>\n",
       "    </tr>\n",
       "    <tr>\n",
       "      <th>median_income</th>\n",
       "      <td>8.3252</td>\n",
       "      <td>8.3014</td>\n",
       "      <td>7.2574</td>\n",
       "      <td>5.6431</td>\n",
       "      <td>3.8462</td>\n",
       "      <td>4.0368</td>\n",
       "      <td>3.6591</td>\n",
       "      <td>3.12</td>\n",
       "      <td>2.0804</td>\n",
       "      <td>3.6912</td>\n",
       "      <td>...</td>\n",
       "      <td>3.5673</td>\n",
       "      <td>3.5179</td>\n",
       "      <td>3.125</td>\n",
       "      <td>2.5495</td>\n",
       "      <td>3.7125</td>\n",
       "      <td>1.5603</td>\n",
       "      <td>2.5568</td>\n",
       "      <td>1.7</td>\n",
       "      <td>1.8672</td>\n",
       "      <td>2.3886</td>\n",
       "    </tr>\n",
       "    <tr>\n",
       "      <th>median_house_value</th>\n",
       "      <td>452600.0</td>\n",
       "      <td>358500.0</td>\n",
       "      <td>352100.0</td>\n",
       "      <td>341300.0</td>\n",
       "      <td>342200.0</td>\n",
       "      <td>269700.0</td>\n",
       "      <td>299200.0</td>\n",
       "      <td>241400.0</td>\n",
       "      <td>226700.0</td>\n",
       "      <td>261100.0</td>\n",
       "      <td>...</td>\n",
       "      <td>112000.0</td>\n",
       "      <td>107200.0</td>\n",
       "      <td>115600.0</td>\n",
       "      <td>98300.0</td>\n",
       "      <td>116800.0</td>\n",
       "      <td>78100.0</td>\n",
       "      <td>77100.0</td>\n",
       "      <td>92300.0</td>\n",
       "      <td>84700.0</td>\n",
       "      <td>89400.0</td>\n",
       "    </tr>\n",
       "    <tr>\n",
       "      <th>ocean_proximity</th>\n",
       "      <td>NEAR BAY</td>\n",
       "      <td>NEAR BAY</td>\n",
       "      <td>NEAR BAY</td>\n",
       "      <td>NEAR BAY</td>\n",
       "      <td>NEAR BAY</td>\n",
       "      <td>NEAR BAY</td>\n",
       "      <td>NEAR BAY</td>\n",
       "      <td>NEAR BAY</td>\n",
       "      <td>NEAR BAY</td>\n",
       "      <td>NEAR BAY</td>\n",
       "      <td>...</td>\n",
       "      <td>INLAND</td>\n",
       "      <td>INLAND</td>\n",
       "      <td>INLAND</td>\n",
       "      <td>INLAND</td>\n",
       "      <td>INLAND</td>\n",
       "      <td>INLAND</td>\n",
       "      <td>INLAND</td>\n",
       "      <td>INLAND</td>\n",
       "      <td>INLAND</td>\n",
       "      <td>INLAND</td>\n",
       "    </tr>\n",
       "    <tr>\n",
       "      <th>rooms_per_household</th>\n",
       "      <td>6.984127</td>\n",
       "      <td>6.238137</td>\n",
       "      <td>8.288136</td>\n",
       "      <td>5.817352</td>\n",
       "      <td>6.281853</td>\n",
       "      <td>4.761658</td>\n",
       "      <td>4.931907</td>\n",
       "      <td>4.797527</td>\n",
       "      <td>4.294118</td>\n",
       "      <td>4.970588</td>\n",
       "      <td>...</td>\n",
       "      <td>5.932584</td>\n",
       "      <td>6.145833</td>\n",
       "      <td>6.023377</td>\n",
       "      <td>5.445026</td>\n",
       "      <td>6.77907</td>\n",
       "      <td>5.045455</td>\n",
       "      <td>6.114035</td>\n",
       "      <td>5.205543</td>\n",
       "      <td>5.329513</td>\n",
       "      <td>5.254717</td>\n",
       "    </tr>\n",
       "    <tr>\n",
       "      <th>bedrooms_per_room</th>\n",
       "      <td>0.146591</td>\n",
       "      <td>0.155797</td>\n",
       "      <td>0.129516</td>\n",
       "      <td>0.184458</td>\n",
       "      <td>0.172096</td>\n",
       "      <td>0.231774</td>\n",
       "      <td>0.192899</td>\n",
       "      <td>0.221327</td>\n",
       "      <td>0.260274</td>\n",
       "      <td>0.199211</td>\n",
       "      <td>...</td>\n",
       "      <td>0.191288</td>\n",
       "      <td>0.185687</td>\n",
       "      <td>0.179388</td>\n",
       "      <td>0.198077</td>\n",
       "      <td>0.169383</td>\n",
       "      <td>0.224625</td>\n",
       "      <td>0.215208</td>\n",
       "      <td>0.215173</td>\n",
       "      <td>0.219892</td>\n",
       "      <td>0.221185</td>\n",
       "    </tr>\n",
       "    <tr>\n",
       "      <th>population_per_household</th>\n",
       "      <td>2.555556</td>\n",
       "      <td>2.109842</td>\n",
       "      <td>2.80226</td>\n",
       "      <td>2.547945</td>\n",
       "      <td>2.181467</td>\n",
       "      <td>2.139896</td>\n",
       "      <td>2.128405</td>\n",
       "      <td>1.788253</td>\n",
       "      <td>2.026891</td>\n",
       "      <td>2.172269</td>\n",
       "      <td>...</td>\n",
       "      <td>2.824719</td>\n",
       "      <td>2.777778</td>\n",
       "      <td>2.719481</td>\n",
       "      <td>2.832461</td>\n",
       "      <td>3.026163</td>\n",
       "      <td>2.560606</td>\n",
       "      <td>3.122807</td>\n",
       "      <td>2.325635</td>\n",
       "      <td>2.123209</td>\n",
       "      <td>2.616981</td>\n",
       "    </tr>\n",
       "  </tbody>\n",
       "</table>\n",
       "<p>13 rows × 20640 columns</p>\n",
       "</div>"
      ],
      "text/plain": [
       "                             0         1         2         3         4      \\\n",
       "longitude                  -122.23   -122.22   -122.24   -122.25   -122.25   \n",
       "latitude                     37.88     37.86     37.85     37.85     37.85   \n",
       "housing_median_age            41.0      21.0      52.0      52.0      52.0   \n",
       "total_rooms                  880.0    7099.0    1467.0    1274.0    1627.0   \n",
       "total_bedrooms               129.0    1106.0     190.0     235.0     280.0   \n",
       "population                   322.0    2401.0     496.0     558.0     565.0   \n",
       "households                   126.0    1138.0     177.0     219.0     259.0   \n",
       "median_income               8.3252    8.3014    7.2574    5.6431    3.8462   \n",
       "median_house_value        452600.0  358500.0  352100.0  341300.0  342200.0   \n",
       "ocean_proximity           NEAR BAY  NEAR BAY  NEAR BAY  NEAR BAY  NEAR BAY   \n",
       "rooms_per_household       6.984127  6.238137  8.288136  5.817352  6.281853   \n",
       "bedrooms_per_room         0.146591  0.155797  0.129516  0.184458  0.172096   \n",
       "population_per_household  2.555556  2.109842   2.80226  2.547945  2.181467   \n",
       "\n",
       "                             5         6         7         8         9      \\\n",
       "longitude                  -122.25   -122.25   -122.25   -122.26   -122.25   \n",
       "latitude                     37.85     37.84     37.84     37.84     37.84   \n",
       "housing_median_age            52.0      52.0      52.0      42.0      52.0   \n",
       "total_rooms                  919.0    2535.0    3104.0    2555.0    3549.0   \n",
       "total_bedrooms               213.0     489.0     687.0     665.0     707.0   \n",
       "population                   413.0    1094.0    1157.0    1206.0    1551.0   \n",
       "households                   193.0     514.0     647.0     595.0     714.0   \n",
       "median_income               4.0368    3.6591      3.12    2.0804    3.6912   \n",
       "median_house_value        269700.0  299200.0  241400.0  226700.0  261100.0   \n",
       "ocean_proximity           NEAR BAY  NEAR BAY  NEAR BAY  NEAR BAY  NEAR BAY   \n",
       "rooms_per_household       4.761658  4.931907  4.797527  4.294118  4.970588   \n",
       "bedrooms_per_room         0.231774  0.192899  0.221327  0.260274  0.199211   \n",
       "population_per_household  2.139896  2.128405  1.788253  2.026891  2.172269   \n",
       "\n",
       "                          ...     20630     20631     20632     20633  \\\n",
       "longitude                 ...   -121.32    -121.4   -121.45   -121.53   \n",
       "latitude                  ...     39.29     39.33     39.26     39.19   \n",
       "housing_median_age        ...      11.0      15.0      15.0      27.0   \n",
       "total_rooms               ...    2640.0    2655.0    2319.0    2080.0   \n",
       "total_bedrooms            ...     505.0     493.0     416.0     412.0   \n",
       "population                ...    1257.0    1200.0    1047.0    1082.0   \n",
       "households                ...     445.0     432.0     385.0     382.0   \n",
       "median_income             ...    3.5673    3.5179     3.125    2.5495   \n",
       "median_house_value        ...  112000.0  107200.0  115600.0   98300.0   \n",
       "ocean_proximity           ...    INLAND    INLAND    INLAND    INLAND   \n",
       "rooms_per_household       ...  5.932584  6.145833  6.023377  5.445026   \n",
       "bedrooms_per_room         ...  0.191288  0.185687  0.179388  0.198077   \n",
       "population_per_household  ...  2.824719  2.777778  2.719481  2.832461   \n",
       "\n",
       "                             20634     20635     20636     20637     20638  \\\n",
       "longitude                  -121.56   -121.09   -121.21   -121.22   -121.32   \n",
       "latitude                     39.27     39.48     39.49     39.43     39.43   \n",
       "housing_median_age            28.0      25.0      18.0      17.0      18.0   \n",
       "total_rooms                 2332.0    1665.0     697.0    2254.0    1860.0   \n",
       "total_bedrooms               395.0     374.0     150.0     485.0     409.0   \n",
       "population                  1041.0     845.0     356.0    1007.0     741.0   \n",
       "households                   344.0     330.0     114.0     433.0     349.0   \n",
       "median_income               3.7125    1.5603    2.5568       1.7    1.8672   \n",
       "median_house_value        116800.0   78100.0   77100.0   92300.0   84700.0   \n",
       "ocean_proximity             INLAND    INLAND    INLAND    INLAND    INLAND   \n",
       "rooms_per_household        6.77907  5.045455  6.114035  5.205543  5.329513   \n",
       "bedrooms_per_room         0.169383  0.224625  0.215208  0.215173  0.219892   \n",
       "population_per_household  3.026163  2.560606  3.122807  2.325635  2.123209   \n",
       "\n",
       "                             20639  \n",
       "longitude                  -121.24  \n",
       "latitude                     39.37  \n",
       "housing_median_age            16.0  \n",
       "total_rooms                 2785.0  \n",
       "total_bedrooms               616.0  \n",
       "population                  1387.0  \n",
       "households                   530.0  \n",
       "median_income               2.3886  \n",
       "median_house_value         89400.0  \n",
       "ocean_proximity             INLAND  \n",
       "rooms_per_household       5.254717  \n",
       "bedrooms_per_room         0.221185  \n",
       "population_per_household  2.616981  \n",
       "\n",
       "[13 rows x 20640 columns]"
      ]
     },
     "execution_count": 13,
     "metadata": {},
     "output_type": "execute_result"
    }
   ],
   "source": [
    "df.T"
   ]
  },
  {
   "cell_type": "code",
   "execution_count": 16,
   "id": "83d7c1af",
   "metadata": {},
   "outputs": [
    {
     "data": {
      "text/plain": [
       "<1H OCEAN     9136\n",
       "INLAND        6551\n",
       "NEAR OCEAN    2658\n",
       "NEAR BAY      2290\n",
       "ISLAND           5\n",
       "Name: ocean_proximity, dtype: int64"
      ]
     },
     "execution_count": 16,
     "metadata": {},
     "output_type": "execute_result"
    }
   ],
   "source": [
    "# Question 1\n",
    "df['ocean_proximity'].value_counts()"
   ]
  },
  {
   "cell_type": "code",
   "execution_count": 47,
   "id": "c57fda19",
   "metadata": {},
   "outputs": [
    {
     "data": {
      "text/plain": [
       "Index(['longitude', 'latitude', 'housing_median_age', 'total_rooms',\n",
       "       'total_bedrooms', 'population', 'households', 'median_income',\n",
       "       'median_house_value', 'ocean_proximity', 'rooms_per_household',\n",
       "       'bedrooms_per_room', 'population_per_household'],\n",
       "      dtype='object')"
      ]
     },
     "execution_count": 47,
     "metadata": {},
     "output_type": "execute_result"
    }
   ],
   "source": [
    "df.columns"
   ]
  },
  {
   "cell_type": "code",
   "execution_count": 49,
   "id": "fd999720",
   "metadata": {},
   "outputs": [
    {
     "data": {
      "text/plain": [
       "0         True\n",
       "1         True\n",
       "2         True\n",
       "3         True\n",
       "4         True\n",
       "         ...  \n",
       "20635    False\n",
       "20636    False\n",
       "20637    False\n",
       "20638    False\n",
       "20639    False\n",
       "Name: above_average, Length: 20640, dtype: bool"
      ]
     },
     "execution_count": 49,
     "metadata": {},
     "output_type": "execute_result"
    }
   ],
   "source": [
    "df['above_average'] = df['median_house_value'] > df['median_house_value'].mean()\n"
   ]
  },
  {
   "cell_type": "code",
   "execution_count": 50,
   "id": "9f171f34",
   "metadata": {},
   "outputs": [
    {
     "data": {
      "text/plain": [
       "0        1\n",
       "1        1\n",
       "2        1\n",
       "3        1\n",
       "4        1\n",
       "        ..\n",
       "20635    0\n",
       "20636    0\n",
       "20637    0\n",
       "20638    0\n",
       "20639    0\n",
       "Name: above_average, Length: 20640, dtype: int32"
      ]
     },
     "execution_count": 50,
     "metadata": {},
     "output_type": "execute_result"
    }
   ],
   "source": [
    "df['above_average'] = df['above_average'].astype(int)\n",
    "df['above_average']"
   ]
  },
  {
   "cell_type": "code",
   "execution_count": 25,
   "id": "d0da3507",
   "metadata": {},
   "outputs": [],
   "source": [
    "from sklearn.model_selection import train_test_split"
   ]
  },
  {
   "cell_type": "code",
   "execution_count": 51,
   "id": "841bd336",
   "metadata": {},
   "outputs": [],
   "source": [
    "df_full_train, df_test = train_test_split(df, test_size=0.2, random_state=42)"
   ]
  },
  {
   "cell_type": "code",
   "execution_count": 52,
   "id": "24122b08",
   "metadata": {},
   "outputs": [],
   "source": [
    "df_train, df_val = train_test_split(df_full_train, test_size=0.25, random_state=42)"
   ]
  },
  {
   "cell_type": "code",
   "execution_count": 53,
   "id": "e7e7ca52",
   "metadata": {},
   "outputs": [
    {
     "data": {
      "text/plain": [
       "(12384, 4128, 4128)"
      ]
     },
     "execution_count": 53,
     "metadata": {},
     "output_type": "execute_result"
    }
   ],
   "source": [
    "len(df_train), len(df_val), len(df_test)"
   ]
  },
  {
   "cell_type": "code",
   "execution_count": 54,
   "id": "90d73475",
   "metadata": {},
   "outputs": [],
   "source": [
    "df_train = df_train.reset_index(drop=True)\n",
    "df_val = df_val.reset_index(drop=True)\n",
    "df_test = df_test.reset_index(drop=True)"
   ]
  },
  {
   "cell_type": "code",
   "execution_count": 55,
   "id": "eb542ed2",
   "metadata": {},
   "outputs": [],
   "source": [
    "y_train = df_train['median_house_value'].values\n",
    "y_val = df_val['median_house_value'].values\n",
    "y_test = df_test['median_house_value'].values"
   ]
  },
  {
   "cell_type": "code",
   "execution_count": 56,
   "id": "1930b26a",
   "metadata": {},
   "outputs": [],
   "source": [
    "del df_train['median_house_value']\n",
    "del df_val['median_house_value']\n",
    "del df_test['median_house_value']"
   ]
  },
  {
   "cell_type": "code",
   "execution_count": 64,
   "id": "5849203e",
   "metadata": {},
   "outputs": [],
   "source": [
    "numerical = ['longitude', 'latitude', 'housing_median_age', 'total_rooms',\n",
    "       'total_bedrooms', 'population', 'households', 'median_income',\n",
    "       'rooms_per_household',\n",
    "       'bedrooms_per_room', 'population_per_household']"
   ]
  },
  {
   "cell_type": "code",
   "execution_count": 65,
   "id": "b50ab767",
   "metadata": {},
   "outputs": [],
   "source": [
    "categorical = ['ocean_proximity']"
   ]
  },
  {
   "cell_type": "code",
   "execution_count": 21,
   "id": "deee7e9a",
   "metadata": {},
   "outputs": [],
   "source": [
    "from sklearn.metrics import mutual_info_score"
   ]
  },
  {
   "cell_type": "code",
   "execution_count": 22,
   "id": "80082978",
   "metadata": {},
   "outputs": [],
   "source": [
    "from IPython.display import display"
   ]
  },
  {
   "cell_type": "code",
   "execution_count": 46,
   "id": "aaa481aa",
   "metadata": {},
   "outputs": [
    {
     "name": "stderr",
     "output_type": "stream",
     "text": [
      "D:\\Program files\\Anaconda\\lib\\site-packages\\sklearn\\metrics\\cluster\\_supervised.py:58: UserWarning: Clustering metrics expects discrete values but received continuous values for label, and multiclass values for target\n",
      "  warnings.warn(msg, UserWarning)\n",
      "D:\\Program files\\Anaconda\\lib\\site-packages\\sklearn\\metrics\\cluster\\_supervised.py:58: UserWarning: Clustering metrics expects discrete values but received continuous values for label, and multiclass values for target\n",
      "  warnings.warn(msg, UserWarning)\n",
      "D:\\Program files\\Anaconda\\lib\\site-packages\\sklearn\\metrics\\cluster\\_supervised.py:58: UserWarning: Clustering metrics expects discrete values but received continuous values for label, and multiclass values for target\n",
      "  warnings.warn(msg, UserWarning)\n",
      "D:\\Program files\\Anaconda\\lib\\site-packages\\sklearn\\metrics\\cluster\\_supervised.py:58: UserWarning: Clustering metrics expects discrete values but received continuous values for label, and multiclass values for target\n",
      "  warnings.warn(msg, UserWarning)\n",
      "D:\\Program files\\Anaconda\\lib\\site-packages\\sklearn\\metrics\\cluster\\_supervised.py:58: UserWarning: Clustering metrics expects discrete values but received continuous values for label, and multiclass values for target\n",
      "  warnings.warn(msg, UserWarning)\n",
      "D:\\Program files\\Anaconda\\lib\\site-packages\\sklearn\\metrics\\cluster\\_supervised.py:58: UserWarning: Clustering metrics expects discrete values but received continuous values for label, and multiclass values for target\n",
      "  warnings.warn(msg, UserWarning)\n"
     ]
    },
    {
     "data": {
      "text/html": [
       "<div>\n",
       "<style scoped>\n",
       "    .dataframe tbody tr th:only-of-type {\n",
       "        vertical-align: middle;\n",
       "    }\n",
       "\n",
       "    .dataframe tbody tr th {\n",
       "        vertical-align: top;\n",
       "    }\n",
       "\n",
       "    .dataframe thead th {\n",
       "        text-align: right;\n",
       "    }\n",
       "</style>\n",
       "<table border=\"1\" class=\"dataframe\">\n",
       "  <thead>\n",
       "    <tr style=\"text-align: right;\">\n",
       "      <th></th>\n",
       "      <th>MI</th>\n",
       "    </tr>\n",
       "  </thead>\n",
       "  <tbody>\n",
       "    <tr>\n",
       "      <th>rooms_per_household</th>\n",
       "      <td>7.597825</td>\n",
       "    </tr>\n",
       "    <tr>\n",
       "      <th>population_per_household</th>\n",
       "      <td>7.552924</td>\n",
       "    </tr>\n",
       "    <tr>\n",
       "      <th>bedrooms_per_room</th>\n",
       "      <td>7.549771</td>\n",
       "    </tr>\n",
       "    <tr>\n",
       "      <th>median_income</th>\n",
       "      <td>6.923324</td>\n",
       "    </tr>\n",
       "    <tr>\n",
       "      <th>total_rooms</th>\n",
       "      <td>6.162212</td>\n",
       "    </tr>\n",
       "    <tr>\n",
       "      <th>population</th>\n",
       "      <td>5.667924</td>\n",
       "    </tr>\n",
       "    <tr>\n",
       "      <th>total_bedrooms</th>\n",
       "      <td>4.777711</td>\n",
       "    </tr>\n",
       "    <tr>\n",
       "      <th>households</th>\n",
       "      <td>4.722244</td>\n",
       "    </tr>\n",
       "    <tr>\n",
       "      <th>longitude</th>\n",
       "      <td>4.016993</td>\n",
       "    </tr>\n",
       "    <tr>\n",
       "      <th>latitude</th>\n",
       "      <td>3.856316</td>\n",
       "    </tr>\n",
       "    <tr>\n",
       "      <th>housing_median_age</th>\n",
       "      <td>1.864962</td>\n",
       "    </tr>\n",
       "  </tbody>\n",
       "</table>\n",
       "</div>"
      ],
      "text/plain": [
       "                                MI\n",
       "rooms_per_household       7.597825\n",
       "population_per_household  7.552924\n",
       "bedrooms_per_room         7.549771\n",
       "median_income             6.923324\n",
       "total_rooms               6.162212\n",
       "population                5.667924\n",
       "total_bedrooms            4.777711\n",
       "households                4.722244\n",
       "longitude                 4.016993\n",
       "latitude                  3.856316\n",
       "housing_median_age        1.864962"
      ]
     },
     "metadata": {},
     "output_type": "display_data"
    }
   ],
   "source": [
    "def calculate_mi(series):\n",
    "    return mutual_info_score(series, df['median_house_value'])\n",
    "\n",
    "df_mi = df[numerical].apply(calculate_mi)\n",
    "df_mi = df_mi.sort_values(ascending=False).to_frame(name='MI')\n",
    "\n",
    "\n",
    "display(df_mi)\n"
   ]
  },
  {
   "cell_type": "code",
   "execution_count": 61,
   "id": "ef515898",
   "metadata": {},
   "outputs": [
    {
     "data": {
      "text/plain": [
       "0.5103396813832125"
      ]
     },
     "execution_count": 61,
     "metadata": {},
     "output_type": "execute_result"
    }
   ],
   "source": [
    "mutual_info_score(df_full_train.ocean_proximity, df_full_train['median_house_value'])"
   ]
  },
  {
   "cell_type": "code",
   "execution_count": 62,
   "id": "632ca2b1",
   "metadata": {},
   "outputs": [],
   "source": [
    "from sklearn.feature_extraction import DictVectorizer"
   ]
  },
  {
   "cell_type": "code",
   "execution_count": 66,
   "id": "32e9a272",
   "metadata": {},
   "outputs": [],
   "source": [
    "train_dict = df_train[categorical + numerical].to_dict(orient='records')"
   ]
  },
  {
   "cell_type": "code",
   "execution_count": 67,
   "id": "ba70cbae",
   "metadata": {},
   "outputs": [
    {
     "data": {
      "text/plain": [
       "{'ocean_proximity': '<1H OCEAN',\n",
       " 'longitude': -119.67,\n",
       " 'latitude': 34.43,\n",
       " 'housing_median_age': 39.0,\n",
       " 'total_rooms': 1467.0,\n",
       " 'total_bedrooms': 381.0,\n",
       " 'population': 1404.0,\n",
       " 'households': 374.0,\n",
       " 'median_income': 2.3681,\n",
       " 'rooms_per_household': 3.9224598930481283,\n",
       " 'bedrooms_per_room': 0.25971370143149286,\n",
       " 'population_per_household': 3.7540106951871657}"
      ]
     },
     "execution_count": 67,
     "metadata": {},
     "output_type": "execute_result"
    }
   ],
   "source": [
    "train_dict[0]"
   ]
  },
  {
   "cell_type": "code",
   "execution_count": 68,
   "id": "c039fbd7",
   "metadata": {},
   "outputs": [
    {
     "data": {
      "text/plain": [
       "DictVectorizer(sparse=False)"
      ]
     },
     "execution_count": 68,
     "metadata": {},
     "output_type": "execute_result"
    }
   ],
   "source": [
    "dv = DictVectorizer(sparse=False)\n",
    "dv.fit(train_dict)"
   ]
  },
  {
   "cell_type": "code",
   "execution_count": 69,
   "id": "fa350860",
   "metadata": {},
   "outputs": [],
   "source": [
    "X_train = dv.transform(train_dict)"
   ]
  },
  {
   "cell_type": "code",
   "execution_count": 70,
   "id": "05573877",
   "metadata": {},
   "outputs": [
    {
     "data": {
      "text/plain": [
       "(12384, 16)"
      ]
     },
     "execution_count": 70,
     "metadata": {},
     "output_type": "execute_result"
    }
   ],
   "source": [
    "X_train.shape"
   ]
  },
  {
   "cell_type": "code",
   "execution_count": 71,
   "id": "67671bf5",
   "metadata": {},
   "outputs": [
    {
     "data": {
      "text/plain": [
       "['bedrooms_per_room',\n",
       " 'households',\n",
       " 'housing_median_age',\n",
       " 'latitude',\n",
       " 'longitude',\n",
       " 'median_income',\n",
       " 'ocean_proximity=<1H OCEAN',\n",
       " 'ocean_proximity=INLAND',\n",
       " 'ocean_proximity=ISLAND',\n",
       " 'ocean_proximity=NEAR BAY',\n",
       " 'ocean_proximity=NEAR OCEAN',\n",
       " 'population',\n",
       " 'population_per_household',\n",
       " 'rooms_per_household',\n",
       " 'total_bedrooms',\n",
       " 'total_rooms']"
      ]
     },
     "execution_count": 71,
     "metadata": {},
     "output_type": "execute_result"
    }
   ],
   "source": [
    "dv.get_feature_names()"
   ]
  },
  {
   "cell_type": "code",
   "execution_count": 72,
   "id": "57786b4a",
   "metadata": {},
   "outputs": [],
   "source": [
    "from sklearn.linear_model import LogisticRegression"
   ]
  },
  {
   "cell_type": "code",
   "execution_count": null,
   "id": "a000a547",
   "metadata": {},
   "outputs": [],
   "source": [
    "model = LogisticRegression(solver=\"liblinear\", C=1.0, max_iter=1000, random_state=42)\n",
    "model.fit(X_train, y_train)"
   ]
  },
  {
   "cell_type": "code",
   "execution_count": null,
   "id": "5b53544d",
   "metadata": {},
   "outputs": [],
   "source": [
    "val_dict = df_val[categorical + numerical].to_dict(orient='records')\n",
    "X_val = dv.transform(val_dict)"
   ]
  },
  {
   "cell_type": "code",
   "execution_count": null,
   "id": "f2aa5fb5",
   "metadata": {},
   "outputs": [],
   "source": [
    "model.predict_proba(X_val)"
   ]
  },
  {
   "cell_type": "code",
   "execution_count": null,
   "id": "e03069f7",
   "metadata": {},
   "outputs": [],
   "source": [
    "y_pred = model.predict_proba(X_val)[:, 1]"
   ]
  },
  {
   "cell_type": "code",
   "execution_count": null,
   "id": "b72418d6",
   "metadata": {},
   "outputs": [],
   "source": [
    "from sklearn.metrics import accuracy_score"
   ]
  },
  {
   "cell_type": "code",
   "execution_count": null,
   "id": "61c0911a",
   "metadata": {},
   "outputs": [],
   "source": [
    "accuracy_score(y_val, y_pred >= 0.5)"
   ]
  },
  {
   "cell_type": "code",
   "execution_count": null,
   "id": "37a7f85c",
   "metadata": {},
   "outputs": [],
   "source": []
  }
 ],
 "metadata": {
  "kernelspec": {
   "display_name": "Python 3 (ipykernel)",
   "language": "python",
   "name": "python3"
  },
  "language_info": {
   "codemirror_mode": {
    "name": "ipython",
    "version": 3
   },
   "file_extension": ".py",
   "mimetype": "text/x-python",
   "name": "python",
   "nbconvert_exporter": "python",
   "pygments_lexer": "ipython3",
   "version": "3.9.7"
  }
 },
 "nbformat": 4,
 "nbformat_minor": 5
}
