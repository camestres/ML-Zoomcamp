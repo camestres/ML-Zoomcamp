{
 "cells": [
  {
   "cell_type": "code",
   "execution_count": 11,
   "id": "016f4f9f",
   "metadata": {},
   "outputs": [],
   "source": [
    "import pandas as pd\n",
    "import numpy as np\n",
    "import seaborn as sns\n",
    "\n",
    "from matplotlib import pyplot as plt\n",
    "%matplotlib inline"
   ]
  },
  {
   "cell_type": "code",
   "execution_count": 4,
   "id": "b2ea070b",
   "metadata": {},
   "outputs": [],
   "source": [
    "df = pd.read_csv('https://raw.githubusercontent.com/alexeygrigorev/datasets/master/housing.csv')"
   ]
  },
  {
   "cell_type": "code",
   "execution_count": 25,
   "id": "2ea42acf",
   "metadata": {},
   "outputs": [
    {
     "data": {
      "image/png": "[encoded data removed]",
      "text/plain": [
       "<Figure size 432x288 with 1 Axes>"
      ]
     },
     "metadata": {
      "needs_background": "light"
     },
     "output_type": "display_data"
    }
   ],
   "source": [
    "sns.histplot(df.median_house_value, bins=40, color='black')\n",
    "plt.xlabel('price')\n",
    "plt.ylabel = ('count')"
   ]
  },
  {
   "cell_type": "code",
   "execution_count": 30,
   "id": "572a02cb",
   "metadata": {},
   "outputs": [
    {
     "data": {
      "text/html": [
       "<div>\n",
       "<style scoped>\n",
       "    .dataframe tbody tr th:only-of-type {\n",
       "        vertical-align: middle;\n",
       "    }\n",
       "\n",
       "    .dataframe tbody tr th {\n",
       "        vertical-align: top;\n",
       "    }\n",
       "\n",
       "    .dataframe thead th {\n",
       "        text-align: right;\n",
       "    }\n",
       "</style>\n",
       "<table border=\"1\" class=\"dataframe\">\n",
       "  <thead>\n",
       "    <tr style=\"text-align: right;\">\n",
       "      <th></th>\n",
       "      <th>longitude</th>\n",
       "      <th>latitude</th>\n",
       "      <th>housing_median_age</th>\n",
       "      <th>total_rooms</th>\n",
       "      <th>total_bedrooms</th>\n",
       "      <th>population</th>\n",
       "      <th>households</th>\n",
       "      <th>median_income</th>\n",
       "      <th>median_house_value</th>\n",
       "    </tr>\n",
       "  </thead>\n",
       "  <tbody>\n",
       "    <tr>\n",
       "      <th>0</th>\n",
       "      <td>-122.23</td>\n",
       "      <td>37.88</td>\n",
       "      <td>41.0</td>\n",
       "      <td>880.0</td>\n",
       "      <td>129.0</td>\n",
       "      <td>322.0</td>\n",
       "      <td>126.0</td>\n",
       "      <td>8.3252</td>\n",
       "      <td>452600.0</td>\n",
       "    </tr>\n",
       "    <tr>\n",
       "      <th>1</th>\n",
       "      <td>-122.22</td>\n",
       "      <td>37.86</td>\n",
       "      <td>21.0</td>\n",
       "      <td>7099.0</td>\n",
       "      <td>1106.0</td>\n",
       "      <td>2401.0</td>\n",
       "      <td>1138.0</td>\n",
       "      <td>8.3014</td>\n",
       "      <td>358500.0</td>\n",
       "    </tr>\n",
       "    <tr>\n",
       "      <th>2</th>\n",
       "      <td>-122.24</td>\n",
       "      <td>37.85</td>\n",
       "      <td>52.0</td>\n",
       "      <td>1467.0</td>\n",
       "      <td>190.0</td>\n",
       "      <td>496.0</td>\n",
       "      <td>177.0</td>\n",
       "      <td>7.2574</td>\n",
       "      <td>352100.0</td>\n",
       "    </tr>\n",
       "    <tr>\n",
       "      <th>3</th>\n",
       "      <td>-122.25</td>\n",
       "      <td>37.85</td>\n",
       "      <td>52.0</td>\n",
       "      <td>1274.0</td>\n",
       "      <td>235.0</td>\n",
       "      <td>558.0</td>\n",
       "      <td>219.0</td>\n",
       "      <td>5.6431</td>\n",
       "      <td>341300.0</td>\n",
       "    </tr>\n",
       "    <tr>\n",
       "      <th>4</th>\n",
       "      <td>-122.25</td>\n",
       "      <td>37.85</td>\n",
       "      <td>52.0</td>\n",
       "      <td>1627.0</td>\n",
       "      <td>280.0</td>\n",
       "      <td>565.0</td>\n",
       "      <td>259.0</td>\n",
       "      <td>3.8462</td>\n",
       "      <td>342200.0</td>\n",
       "    </tr>\n",
       "  </tbody>\n",
       "</table>\n",
       "</div>"
      ],
      "text/plain": [
       "   longitude  latitude  housing_median_age  total_rooms  total_bedrooms  \\\n",
       "0    -122.23     37.88                41.0        880.0           129.0   \n",
       "1    -122.22     37.86                21.0       7099.0          1106.0   \n",
       "2    -122.24     37.85                52.0       1467.0           190.0   \n",
       "3    -122.25     37.85                52.0       1274.0           235.0   \n",
       "4    -122.25     37.85                52.0       1627.0           280.0   \n",
       "\n",
       "   population  households  median_income  median_house_value  \n",
       "0       322.0       126.0         8.3252            452600.0  \n",
       "1      2401.0      1138.0         8.3014            358500.0  \n",
       "2       496.0       177.0         7.2574            352100.0  \n",
       "3       558.0       219.0         5.6431            341300.0  \n",
       "4       565.0       259.0         3.8462            342200.0  "
      ]
     },
     "execution_count": 30,
     "metadata": {},
     "output_type": "execute_result"
    }
   ],
   "source": [
    "df.head()"
   ]
  },
  {
   "cell_type": "code",
   "execution_count": 28,
   "id": "2fef4029",
   "metadata": {},
   "outputs": [],
   "source": [
    "del df['ocean_proximity']"
   ]
  },
  {
   "cell_type": "code",
   "execution_count": 32,
   "id": "cea1994a",
   "metadata": {},
   "outputs": [
    {
     "data": {
      "text/plain": [
       "longitude               0\n",
       "latitude                0\n",
       "housing_median_age      0\n",
       "total_rooms             0\n",
       "total_bedrooms        207\n",
       "population              0\n",
       "households              0\n",
       "median_income           0\n",
       "median_house_value      0\n",
       "dtype: int64"
      ]
     },
     "execution_count": 32,
     "metadata": {},
     "output_type": "execute_result"
    }
   ],
   "source": [
    "df.isnull().sum()"
   ]
  },
  {
   "cell_type": "code",
   "execution_count": 37,
   "id": "b0e2a27d",
   "metadata": {},
   "outputs": [
    {
     "data": {
      "text/plain": [
       "20640"
      ]
     },
     "execution_count": 37,
     "metadata": {},
     "output_type": "execute_result"
    }
   ],
   "source": [
    "len(df)"
   ]
  },
  {
   "cell_type": "code",
   "execution_count": 38,
   "id": "f0051931",
   "metadata": {},
   "outputs": [],
   "source": [
    "np.random.seed(42)\n",
    "\n",
    "n = len(df)\n",
    "\n",
    "n_val = int(0.2 * n)\n",
    "n_test = int(0.2 * n)\n",
    "n_train = n - (n_val + n_test)"
   ]
  },
  {
   "cell_type": "code",
   "execution_count": 40,
   "id": "31a7170d",
   "metadata": {},
   "outputs": [],
   "source": [
    "idx = np.arange(n)\n",
    "np.random.shuffle(idx)"
   ]
  },
  {
   "cell_type": "code",
   "execution_count": 42,
   "id": "95017d45",
   "metadata": {},
   "outputs": [],
   "source": [
    "df_shuffled = df.iloc[idx]"
   ]
  },
  {
   "cell_type": "code",
   "execution_count": 43,
   "id": "b07111d9",
   "metadata": {},
   "outputs": [],
   "source": [
    "df_train = df_shuffled[:n_train].copy()\n",
    "df_val = df_shuffled[n_train:n_train+n_val].copy()\n",
    "df_test = df_shuffled[n_train+n_val:].copy()"
   ]
  },
  {
   "cell_type": "code",
   "execution_count": 50,
   "id": "bb3d875e",
   "metadata": {},
   "outputs": [],
   "source": [
    "y_train_orig = df_train['median_house_value'].values\n",
    "y_val_orig = df_val['median_house_value'].values\n",
    "y_test_orig = df_test['median_house_value'].values\n",
    "\n",
    "y_train = np.log1p(y_train_orig)\n",
    "y_val = np.log1p(y_val_orig)\n",
    "y_test = np.log1p(y_test_orig)\n",
    "\n",
    "del df_train['median_house_value']\n",
    "del df_val['median_house_value']\n",
    "del df_test['median_house_value']"
   ]
  },
  {
   "cell_type": "code",
   "execution_count": 51,
   "id": "dbbaa67b",
   "metadata": {},
   "outputs": [],
   "source": [
    "def train_linear_regression(X, y):\n",
    "    ones = np.ones(X.shape[0])\n",
    "    X = np.column_stack([ones, X])\n",
    "\n",
    "    XTX = X.T.dot(X)\n",
    "    XTX_inv = np.linalg.inv(XTX)\n",
    "    w = XTX_inv.dot(X.T).dot(y)\n",
    "    \n",
    "    return w[0], w[1:]"
   ]
  },
  {
   "cell_type": "code",
   "execution_count": 71,
   "id": "a0f76ec4",
   "metadata": {},
   "outputs": [
    {
     "data": {
      "text/plain": [
       "Index(['longitude', 'latitude', 'housing_median_age', 'total_rooms',\n",
       "       'total_bedrooms', 'population', 'households', 'median_income'],\n",
       "      dtype='object')"
      ]
     },
     "execution_count": 71,
     "metadata": {},
     "output_type": "execute_result"
    }
   ],
   "source": [
    "df_train.columns"
   ]
  },
  {
   "cell_type": "code",
   "execution_count": 72,
   "id": "f085367b",
   "metadata": {},
   "outputs": [],
   "source": [
    "base = ['longitude', 'latitude', 'housing_median_age', 'total_rooms',\n",
    "       'total_bedrooms', 'population', 'households', 'median_income']"
   ]
  },
  {
   "cell_type": "code",
   "execution_count": 104,
   "id": "503c0608",
   "metadata": {},
   "outputs": [],
   "source": [
    "def prepare_X(df):\n",
    "    option = 0       \n",
    "    df_num = df[base]\n",
    "    df_num = df_num.fillna(option)\n",
    "    X = df_num.values\n",
    "    return X"
   ]
  },
  {
   "cell_type": "code",
   "execution_count": 105,
   "id": "6192eadd",
   "metadata": {},
   "outputs": [],
   "source": [
    "X_val = prepare_X(df_val)\n",
    "w_0, w = train_linear_regression(X_val, y_val)"
   ]
  },
  {
   "cell_type": "code",
   "execution_count": 106,
   "id": "c6a50d00",
   "metadata": {},
   "outputs": [],
   "source": [
    "y_pred = w_0 + X_val.dot(w)"
   ]
  },
  {
   "cell_type": "code",
   "execution_count": 107,
   "id": "8c756e15",
   "metadata": {},
   "outputs": [],
   "source": [
    "def rmse(y, y_pred):\n",
    "    error = y_pred - y\n",
    "    mse = (error ** 2).mean()\n",
    "    return np.sqrt(mse)"
   ]
  },
  {
   "cell_type": "code",
   "execution_count": 108,
   "id": "b4395dc3",
   "metadata": {},
   "outputs": [
    {
     "data": {
      "text/plain": [
       "0.34"
      ]
     },
     "execution_count": 108,
     "metadata": {},
     "output_type": "execute_result"
    }
   ],
   "source": [
    "round(rmse(y_val, y_pred), 2)"
   ]
  },
  {
   "cell_type": "code",
   "execution_count": null,
   "id": "9b0546c2",
   "metadata": {},
   "outputs": [],
   "source": [
    "# QUESTRION 3 \n",
    "# 1. fillna with 0: RMSE = 0.34\n",
    "# 2. fillna with mean: RMSE = 0.34"
   ]
  },
  {
   "cell_type": "code",
   "execution_count": 109,
   "id": "bd6b6bb5",
   "metadata": {},
   "outputs": [],
   "source": [
    "# QUESTION 4\n",
    "def train_linear_regression_reg(X, y, r=0.0):\n",
    "    ones = np.ones(X.shape[0])\n",
    "    X = np.column_stack([ones, X])\n",
    "\n",
    "    XTX = X.T.dot(X)\n",
    "    reg = r * np.eye(XTX.shape[0])\n",
    "    XTX = XTX + reg\n",
    "\n",
    "    XTX_inv = np.linalg.inv(XTX)\n",
    "    w = XTX_inv.dot(X.T).dot(y)\n",
    "    \n",
    "    return w[0], w[1:]"
   ]
  },
  {
   "cell_type": "code",
   "execution_count": 110,
   "id": "1e5ff532",
   "metadata": {},
   "outputs": [],
   "source": [
    "X_train = prepare_X(df_train)"
   ]
  },
  {
   "cell_type": "code",
   "execution_count": 113,
   "id": "4ade081c",
   "metadata": {},
   "outputs": [
    {
     "name": "stdout",
     "output_type": "stream",
     "text": [
      "     0 0.34\n",
      " 1e-06 0.34\n",
      "0.0001 0.34\n",
      " 0.001 0.34\n",
      "  0.01 0.34\n",
      "   0.1 0.34\n",
      "     1 0.34\n",
      "     5 0.35\n",
      "    10 0.35\n"
     ]
    }
   ],
   "source": [
    "for r in [0, 0.000001, 0.0001, 0.001, 0.01, 0.1, 1, 5, 10]:\n",
    "    w_0, w = train_linear_regression_reg(X_train, y_train, r=r)\n",
    "    y_pred = w_0 + X_val.dot(w)\n",
    "    print('%6s' %r, round(rmse(y_val, y_pred),2))"
   ]
  },
  {
   "cell_type": "code",
   "execution_count": 153,
   "id": "fafc460a",
   "metadata": {},
   "outputs": [],
   "source": [
    "# QUESTION 5\n",
    "rmse_score = []\n",
    "for v in [0, 1, 2, 3, 4, 5, 6, 7, 8, 9]:\n",
    "    np.random.seed(v)\n",
    "    n = len(df)\n",
    "\n",
    "    n_val = int(0.2 * n)\n",
    "    n_test = int(0.2 * n)\n",
    "    n_train = n - (n_val + n_test)\n",
    "    \n",
    "    idx = np.arange(n)\n",
    "    np.random.shuffle(idx)\n",
    "    df_shuffled = df.iloc[idx]\n",
    "    \n",
    "    df_train = df_shuffled[:n_train].copy()\n",
    "    df_val = df_shuffled[n_train:n_train+n_val].copy()\n",
    "    df_test = df_shuffled[n_train+n_val:].copy()\n",
    "    \n",
    "    y_train_orig = df_train['median_house_value'].values\n",
    "    y_val_orig = df_val['median_house_value'].values\n",
    "    y_test_orig = df_test['median_house_value'].values\n",
    "\n",
    "    y_train = np.log1p(y_train_orig)\n",
    "    y_val = np.log1p(y_val_orig)\n",
    "    y_test = np.log1p(y_test_orig)\n",
    "\n",
    "    del df_train['median_house_value']\n",
    "    del df_val['median_house_value']\n",
    "    del df_test['median_house_value']\n",
    "    \n",
    "  \n",
    "    \n",
    "    X_val = prepare_X(df_val)\n",
    "    w_0, w = train_linear_regression(X_val, y_val)\n",
    "    y_pred = w_0 + X_val.dot(w)\n",
    "    rmse_val = rmse(y_pred, y_val)\n",
    "    \n",
    "    rmse_score.append(rmse_val)\n"
   ]
  },
  {
   "cell_type": "code",
   "execution_count": 154,
   "id": "a07c01a0",
   "metadata": {},
   "outputs": [
    {
     "data": {
      "text/plain": [
       "[0.3383899450959167,\n",
       " 0.33568021374000073,\n",
       " 0.3308095701950043,\n",
       " 0.3395798152144959,\n",
       " 0.3355614943840107,\n",
       " 0.3420634263418839,\n",
       " 0.3430789434116625,\n",
       " 0.3386941084907638,\n",
       " 0.3449388159212408,\n",
       " 0.334660401867554]"
      ]
     },
     "execution_count": 154,
     "metadata": {},
     "output_type": "execute_result"
    }
   ],
   "source": [
    "rmse_score"
   ]
  },
  {
   "cell_type": "code",
   "execution_count": 155,
   "id": "fc1634b3",
   "metadata": {},
   "outputs": [
    {
     "data": {
      "text/plain": [
       "0.004"
      ]
     },
     "execution_count": 155,
     "metadata": {},
     "output_type": "execute_result"
    }
   ],
   "source": [
    "round(np.std(rmse_score), 3)"
   ]
  },
  {
   "cell_type": "code",
   "execution_count": 164,
   "id": "d5834aec",
   "metadata": {},
   "outputs": [],
   "source": [
    "# QUESTION 6\n",
    "np.random.seed(9)\n",
    "n = len(df)\n",
    "\n",
    "n_val = int(0.2 * n)\n",
    "n_test = int(0.2 * n)\n",
    "n_train = n - (n_val + n_test)\n",
    "\n",
    "idx = np.arange(n)\n",
    "np.random.shuffle(idx)\n",
    "df_shuffled = df.iloc[idx]\n",
    "\n",
    "df_train = df_shuffled[:n_train].copy()\n",
    "df_val = df_shuffled[n_train:n_train+n_val].copy()\n",
    "df_test = df_shuffled[n_train+n_val:].copy()\n",
    "\n",
    "y_train_orig = df_train['median_house_value'].values\n",
    "y_val_orig = df_val['median_house_value'].values\n",
    "y_test_orig = df_test['median_house_value'].values\n",
    "\n",
    "y_train = np.log1p(y_train_orig)\n",
    "y_val = np.log1p(y_val_orig)\n",
    "y_test = np.log1p(y_test_orig)\n",
    "\n",
    "del df_train['median_house_value']\n",
    "del df_val['median_house_value']\n",
    "del df_test['median_house_value']\n",
    "\n",
    "df_combine = pd.concat([df_train, df_val])\n",
    "y_combine = pd.concat([y_train_orig, y_val_orig])\n",
    "\n",
    "X_combine = prepare_X(df_combine)\n",
    "w_0, w = train_linear_regression_reg(X_combine, y_combine, r=0.001)\n",
    "y_pred = w_0 + X_combine.dot(w)\n",
    "rmse(y_pred, y_val)"
   ]
  },
  {
   "cell_type": "code",
   "execution_count": null,
   "id": "3952540f",
   "metadata": {},
   "outputs": [],
   "source": []
  },
  {
   "cell_type": "code",
   "execution_count": null,
   "id": "c5b13d92",
   "metadata": {},
   "outputs": [],
   "source": []
  },
  {
   "cell_type": "code",
   "execution_count": null,
   "id": "9c3b3748",
   "metadata": {},
   "outputs": [],
   "source": []
  }
 ],
 "metadata": {
  "kernelspec": {
   "display_name": "Python 3 (ipykernel)",
   "language": "python",
   "name": "python3"
  },
  "language_info": {
   "codemirror_mode": {
    "name": "ipython",
    "version": 3
   },
   "file_extension": ".py",
   "mimetype": "text/x-python",
   "name": "python",
   "nbconvert_exporter": "python",
   "pygments_lexer": "ipython3",
   "version": "3.9.7"
  }
 },
 "nbformat": 4,
 "nbformat_minor": 5
}
